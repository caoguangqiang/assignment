{
 "nbformat": 4,
 "nbformat_minor": 2,
 "metadata": {
  "language_info": {
   "name": "python",
   "codemirror_mode": {
    "name": "ipython",
    "version": 3
   },
   "version": "3.7.6-final"
  },
  "orig_nbformat": 2,
  "file_extension": ".py",
  "mimetype": "text/x-python",
  "name": "python",
  "npconvert_exporter": "python",
  "pygments_lexer": "ipython3",
  "version": 3,
  "kernelspec": {
   "name": "python3",
   "display_name": "Python 3"
  }
 },
 "cells": [
  {
   "cell_type": "code",
   "execution_count": 1,
   "metadata": {},
   "outputs": [],
   "source": [
    "# 约瑟夫环\n",
    "# 指定起始位置，间隔step的人出列\n",
    "\n",
    "def josephus_remd(n,step,start): # n总人数，step间隔，start起始位置\n",
    "    result = []\n",
    "    \n",
    "    ori=[]\n",
    "    for i in range(n):\n",
    "        ori.append(i + 1)\n",
    "    now = start - 1\n",
    "    while len(ori):\n",
    "        now = (now + step - 1) % len(ori) \n",
    "        result.append(ori[now])\n",
    "        ori.pop(now) \n",
    "    \n",
    "    return result\n",
    "           \n",
    "assert josephus_remd(7,3,2) == [4, 7, 3, 1, 6, 2, 5]       \n",
    "# result = josephus_remd(7,3,2)\n",
    "# print(result)"
   ]
  },
  {
   "cell_type": "code",
   "execution_count": null,
   "metadata": {},
   "outputs": [],
   "source": []
  }
 ]
}