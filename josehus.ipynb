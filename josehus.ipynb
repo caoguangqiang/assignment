{
 "nbformat": 4,
 "nbformat_minor": 2,
 "metadata": {
  "language_info": {
   "name": "python",
   "codemirror_mode": {
    "name": "ipython",
    "version": 3
   },
   "version": "3.7.6-final"
  },
  "orig_nbformat": 2,
  "file_extension": ".py",
  "mimetype": "text/x-python",
  "name": "python",
  "npconvert_exporter": "python",
  "pygments_lexer": "ipython3",
  "version": 3,
  "kernelspec": {
   "name": "python3",
   "display_name": "Python 3"
  }
 },
 "cells": [
  {
   "cell_type": "code",
   "execution_count": 7,
   "metadata": {},
   "outputs": [
    {
     "output_type": "stream",
     "name": "stdout",
     "text": "第1位出列\nposition:4,name:lirongjie,age:21\n第2位出列\nposition:7,name:zhaochongsen,age:24\n第3位出列\nposition:3,name:gaoshi,age:20\n第4位出列\nposition:1,name:yangjincheng,age:18\n第5位出列\nposition:6,name:wangzhen,age:23\n第6位出列\nposition:2,name:huoyinqi,age:19\n第7位出列\nposition:5,name:wuzhong,age:22\n"
    }
   ],
   "source": [
    "# 约瑟夫环，创建类\n",
    "# 指定起始位置，间隔step的人出列\n",
    "# person = ['yangjincheng','huoyinqi','gaoshi','lirongjie','wuzhong','wangzhen','zhaochongsen']\n",
    "\n",
    "class Person:\n",
    "    def __init__(self,name,position,age):\n",
    "        self.name = name \n",
    "        self.position = position \n",
    "        self.age = age \n",
    "    def print_info(self):\n",
    "        print(\"position:{},name:{},age:{}\" .format(self.position, self.name, self.age))\n",
    "\n",
    "m1 = Person('yangjincheng', 1, 18)\n",
    "m2 = Person('huoyinqi', 2, 19)\n",
    "m3 = Person('gaoshi', 3, 20)\n",
    "m4 = Person('lirongjie', 4, 21)\n",
    "m5 = Person('wuzhong', 5, 22)\n",
    "m6 = Person('wangzhen', 6, 23)\n",
    "m7 = Person('zhaochongsen', 7, 24)\n",
    "member = [m1, m2, m3, m4, m5, m6, m7] \n",
    "\n",
    "\n",
    "class Ring:\n",
    "    def __init__(self, member, step, start):\n",
    "        self.member = member\n",
    "        self.step = step\n",
    "        self.start = start\n",
    "        result = []\n",
    "    \n",
    "    def josephus_remainder(self): \n",
    "        now = start - 1\n",
    "        while len(self.member):\n",
    "            now = (now + self.step - 1) % len(self.member) \n",
    "            result.append(self.member[now])\n",
    "            self.member.pop(now) \n",
    "    \n",
    "        return result\n",
    "    \n",
    "    def print_result(member):\n",
    "        for i in range(len(member)):\n",
    "            print(\"第%d位出列\" %(i+1))\n",
    "            member[i].print_info()\n",
    "    \n",
    "result = josephus_remainder(member,3,2)\n",
    "print_result(result)\n",
    ""
   ]
  },
  {
   "cell_type": "code",
   "execution_count": null,
   "metadata": {},
   "outputs": [],
   "source": []
  }
 ]
}