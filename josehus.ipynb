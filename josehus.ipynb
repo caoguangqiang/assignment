{
 "nbformat": 4,
 "nbformat_minor": 2,
 "metadata": {
  "language_info": {
   "name": "python",
   "codemirror_mode": {
    "name": "ipython",
    "version": 3
   },
   "version": "3.7.6-final"
  },
  "orig_nbformat": 2,
  "file_extension": ".py",
  "mimetype": "text/x-python",
  "name": "python",
  "npconvert_exporter": "python",
  "pygments_lexer": "ipython3",
  "version": 3,
  "kernelspec": {
   "name": "python3",
   "display_name": "Python 3"
  }
 },
 "cells": [
  {
   "cell_type": "code",
   "execution_count": 4,
   "metadata": {},
   "outputs": [
    {
     "output_type": "stream",
     "name": "stdout",
     "text": "第1位出列\nposition:{} name:{} age:4\n第2位出列\nposition:{} name:{} age:7\n第3位出列\nposition:{} name:{} age:3\n第4位出列\nposition:{} name:{} age:1\n第5位出列\nposition:{} name:{} age:6\n第6位出列\nposition:{} name:{} age:2\n第7位出列\nposition:{} name:{} age:5\n"
    }
   ],
   "source": [
    "# 约瑟夫环，创建类\n",
    "# 指定起始位置，间隔step的人出列\n",
    "# person = ['yangjincheng','huoyinqi','gaoshi','lirongjie','wuzhong','wangzhen','zhaochongsen']\n",
    "\n",
    "class Person:\n",
    "    def __init__(self,name,position,age):\n",
    "        self.name = name \n",
    "        self.position = position \n",
    "        self.age = age \n",
    "    def print_info(self):\n",
    "        print(\"position:{}\",\"name:{}\",\"age:{}\" .format(self.position, self.name, self.age))\n",
    "\n",
    "m1 = Person('yangjincheng', 1, 18)\n",
    "m2 = Person('huoyinqi', 2, 19)\n",
    "m3 = Person('gaoshi', 3, 20)\n",
    "m4 = Person('lirongjie', 4, 21)\n",
    "m5 = Person('wuzhong', 5, 22)\n",
    "m6 = Person('wangzhen', 6, 23)\n",
    "m7 = Person('zhaochongsen', 7, 24)\n",
    "member = [m1, m2, m3, m4, m5, m6, m7] \n",
    "\n",
    "def josephus_remainder(member,step,start): # 对象列表，step间隔，start起始位置\n",
    "        result = []\n",
    "    \n",
    "        now = start - 1\n",
    "        while len(member):\n",
    "            now = (now + step - 1) % len(member) \n",
    "            result.append(member[now])\n",
    "            member.pop(now) \n",
    "    \n",
    "        return result\n",
    "    \n",
    "def print_result(member):\n",
    "    for i in range(len(member)):\n",
    "        print(\"第%d位出列\" %(i+1))\n",
    "        member[i].print_info()\n",
    "    \n",
    "result = josephus_remainder(member,3,2)\n",
    "print_result(result)\n",
    ""
   ]
  },
  {
   "cell_type": "code",
   "execution_count": null,
   "metadata": {},
   "outputs": [],
   "source": []
  }
 ]
}