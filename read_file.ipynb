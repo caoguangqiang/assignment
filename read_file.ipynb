{
 "nbformat": 4,
 "nbformat_minor": 2,
 "metadata": {
  "language_info": {
   "name": "python",
   "codemirror_mode": {
    "name": "ipython",
    "version": 3
   },
   "version": "3.7.6-final"
  },
  "orig_nbformat": 2,
  "file_extension": ".py",
  "mimetype": "text/x-python",
  "name": "python",
  "npconvert_exporter": "python",
  "pygments_lexer": "ipython3",
  "version": 3,
  "kernelspec": {
   "name": "python3",
   "display_name": "Python 3"
  }
 },
 "cells": [
  {
   "cell_type": "code",
   "execution_count": 24,
   "metadata": {},
   "outputs": [
    {
     "output_type": "stream",
     "name": "stdout",
     "text": "\"John\", 18\n\"Bob\", 19\n\"Jerry\", 20\n\"Mark\", 21\n\"Jack\", 22\n\"Neil\", 23\n\"Oscar\", 24\n-------------------------\n<class '_csv.reader'>\n['John', ' 18']\n['Bob', ' 19']\n['Jerry', ' 20']\n['Mark', ' 21']\n['Jack', ' 22']\n['Neil', ' 23']\n['Oscar', ' 24']\n"
    }
   ],
   "source": [
    "import os\n",
    "import os.path\n",
    "import csv\n",
    "import zipfile\n",
    "\n",
    "# 读取csv文件\n",
    "def read_txt():\n",
    "    f = open(\"people.txt\")\n",
    "    for line in f:\n",
    "        print(line,end ='')\n",
    "    # print(f.read())\n",
    "    f.close()   \n",
    "    \n",
    "    \n",
    "# 读取csv文件 \n",
    "def read_csv():\n",
    "    with open('people.csv', 'r') as f:\n",
    "        reader = csv.reader(f)\n",
    "        print(type(reader))\n",
    "\n",
    "        for row in reader:\n",
    "            print(row)\n",
    "           \n",
    "\n",
    "# 读取zip文件\n",
    "def read_zipfile():\n",
    "\n",
    "    z = zipfile.ZipFile(\"zipfile.zip\", \"r\")\n",
    "    #打印zip文件中的文件列表\n",
    "    for filename in z.namelist( ):\n",
    "        print(filename)\n",
    "    #读取zip文件中的第一个文件\n",
    "    first_file_name = z.namelist()[0]\n",
    "    content = z.read(first_file_name)\n",
    "    print(first_file_name)\n",
    "    print(content)\n",
    "\n",
    "read_txt()\n",
    "print('-'*25)\n",
    "read_csv()"
   ]
  }
 ]
}